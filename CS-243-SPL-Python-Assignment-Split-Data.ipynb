{
 "cells": [
  {
   "cell_type": "code",
   "execution_count": 1,
   "metadata": {
    "collapsed": false,
    "deletable": true,
    "editable": true
   },
   "outputs": [],
   "source": [
    "#Initialise System Paths\n",
    "rootpath = \"/mnt/E/Yandex/IITG/CS243\\ SPL/ADFA-LD/ADFA-LD\"\n",
    "attack_data_master = rootpath + \"/Attack_Data_Master\"\n",
    "processed_root = rootpath + \"/Processed\"\n",
    "training_set_path = processed_root + \"/Training\"\n",
    "test_set_path = processed_root + \"/Test\"\n",
    "memo_path = processed_root + \"/Memo\""
   ]
  },
  {
   "cell_type": "code",
   "execution_count": 2,
   "metadata": {
    "collapsed": false,
    "deletable": true,
    "editable": true
   },
   "outputs": [
    {
     "data": {
      "text/plain": [
       "0"
      ]
     },
     "execution_count": 2,
     "metadata": {},
     "output_type": "execute_result"
    }
   ],
   "source": [
    "#Create directories for Processing  \n",
    "import os\n",
    "\n",
    "os.system(\"mkdir \" + test_set_path)\n",
    "os.system(\"mkdir \" + training_set_path)\n",
    "os.system(\"mkdir \" + memo_path)"
   ]
  },
  {
   "cell_type": "code",
   "execution_count": 3,
   "metadata": {
    "collapsed": false,
    "deletable": true,
    "editable": true
   },
   "outputs": [
    {
     "name": "stdout",
     "output_type": "stream",
     "text": [
      "Java_Meterpreter_\n",
      "Meterpreter_\n",
      "Web_Shell_\n",
      "Adduser_\n",
      "Hydra_FTP_\n",
      "Hydra_SSH_\n",
      "\n"
     ]
    }
   ],
   "source": [
    "#Splitting the Attack Data into Training (70%) and Test (30%) Data\n",
    "\n",
    "import subprocess\n",
    "\n",
    "exec_str = \"find \" + attack_data_master + \" -type d | grep \\\".*_2\\\" | sed s_.*/__g | sed s_2__g\"\n",
    "# Find all directories in root, choose those ending in _2, then remove the prefix and suffix\n",
    "proc = subprocess.Popen(exec_str, stdout=subprocess.PIPE, shell=True)\n",
    "(out, err) = proc.communicate()\n",
    "\n",
    "print out\n"
   ]
  },
  {
   "cell_type": "code",
   "execution_count": 3,
   "metadata": {
    "collapsed": false,
    "deletable": true,
    "editable": true
   },
   "outputs": [
    {
     "ename": "NameError",
     "evalue": "name 'out' is not defined",
     "output_type": "error",
     "traceback": [
      "\u001b[0;31m---------------------------------------------------------------------------\u001b[0m",
      "\u001b[0;31mNameError\u001b[0m                                 Traceback (most recent call last)",
      "\u001b[0;32m<ipython-input-3-719483796a92>\u001b[0m in \u001b[0;36m<module>\u001b[0;34m()\u001b[0m\n\u001b[1;32m      2\u001b[0m \u001b[0;34m\u001b[0m\u001b[0m\n\u001b[1;32m      3\u001b[0m \u001b[0;31m#Copy the Directories (70% into Training and 30% into Test directory)\u001b[0m\u001b[0;34m\u001b[0m\u001b[0;34m\u001b[0m\u001b[0m\n\u001b[0;32m----> 4\u001b[0;31m \u001b[0;32mfor\u001b[0m \u001b[0mdir_prefix\u001b[0m \u001b[0;32min\u001b[0m  \u001b[0mout\u001b[0m\u001b[0;34m.\u001b[0m\u001b[0msplit\u001b[0m\u001b[0;34m(\u001b[0m\u001b[0;34m)\u001b[0m\u001b[0;34m:\u001b[0m\u001b[0;34m\u001b[0m\u001b[0m\n\u001b[0m\u001b[1;32m      5\u001b[0m     \u001b[0mx\u001b[0m \u001b[0;34m=\u001b[0m \u001b[0mrange\u001b[0m\u001b[0;34m(\u001b[0m\u001b[0;36m1\u001b[0m\u001b[0;34m,\u001b[0m\u001b[0;36m11\u001b[0m\u001b[0;34m)\u001b[0m\u001b[0;34m\u001b[0m\u001b[0m\n\u001b[1;32m      6\u001b[0m     \u001b[0mrandom\u001b[0m\u001b[0;34m.\u001b[0m\u001b[0mshuffle\u001b[0m\u001b[0;34m(\u001b[0m\u001b[0mx\u001b[0m\u001b[0;34m)\u001b[0m \u001b[0;31m# Randomly select with 7 to copy to Training and which 3 to Test directory respectively\u001b[0m\u001b[0;34m\u001b[0m\u001b[0m\n",
      "\u001b[0;31mNameError\u001b[0m: name 'out' is not defined"
     ]
    }
   ],
   "source": [
    "import random\n",
    "\n",
    "#Copy the Directories (70% into Training and 30% into Test directory)\n",
    "for dir_prefix in  out.split():\n",
    "    x = range(1,11)\n",
    "    random.shuffle(x) # Randomly select with 7 to copy to Training and which 3 to Test directory respectively\n",
    "    for i in x[:7]:\n",
    "        exec_str = \"cp -r \" + attack_data_master + \"/\" + dir_prefix + str(i) + \" \" + training_set_path \n",
    "        #print exec_str\n",
    "        os.system(exec_str)\n",
    "    for i in x[7:]:\n",
    "        exec_str = \"cp -r \" + attack_data_master + \"/\" + dir_prefix + str(i) + \" \" + test_set_path\n",
    "        os.system(exec_str)"
   ]
  },
  {
   "cell_type": "code",
   "execution_count": 5,
   "metadata": {
    "collapsed": false,
    "deletable": true,
    "editable": true
   },
   "outputs": [
    {
     "data": {
      "text/plain": [
       "0"
      ]
     },
     "execution_count": 5,
     "metadata": {},
     "output_type": "execute_result"
    }
   ],
   "source": [
    "os.system(\"cp -r \"+rootpath+\"/Training_Data_Master \"+training_set_path+\"/Normal\")\n",
    "os.system(\"cp -r \"+rootpath+\"/Validation_Data_Master \"+test_set_path+\"/Normal\")"
   ]
  },
  {
   "cell_type": "code",
   "execution_count": 2,
   "metadata": {
    "collapsed": false,
    "deletable": true,
    "editable": true
   },
   "outputs": [
    {
     "name": "stdout",
     "output_type": "stream",
     "text": [
      "range(1, 11)\n"
     ]
    }
   ],
   "source": []
  },
  {
   "cell_type": "code",
   "execution_count": null,
   "metadata": {
    "collapsed": true
   },
   "outputs": [],
   "source": []
  }
 ],
 "metadata": {
  "anaconda-cloud": {},
  "kernelspec": {
   "display_name": "Python 3",
   "language": "python",
   "name": "python3"
  },
  "language_info": {
   "codemirror_mode": {
    "name": "ipython",
    "version": 3
   },
   "file_extension": ".py",
   "mimetype": "text/x-python",
   "name": "python",
   "nbconvert_exporter": "python",
   "pygments_lexer": "ipython3",
   "version": "3.5.2"
  }
 },
 "nbformat": 4,
 "nbformat_minor": 1
}
